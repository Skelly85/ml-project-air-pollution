{
 "cells": [
  {
   "cell_type": "code",
   "execution_count": 179,
   "metadata": {},
   "outputs": [],
   "source": [
    "# import libraries and tools\n",
    "import pandas as pd\n",
    "import numpy as np\n",
    "import missingno as msno\n",
    "import metpy.calc\n",
    "from metpy.units import units\n",
    "from datetime import datetime, date, time, timedelta\n",
    "\n",
    "import matplotlib.pyplot as plt\n",
    "import seaborn as sns\n",
    "import plotly.express as px\n",
    "\n",
    "from sklearn.model_selection import train_test_split\n",
    "\n",
    "from variable_names import vars_drop\n",
    "\n",
    "import warnings\n",
    "warnings.filterwarnings('ignore')"
   ]
  },
  {
   "cell_type": "code",
   "execution_count": 180,
   "metadata": {},
   "outputs": [],
   "source": [
    "# get data and prepare it as in the main notebook\n",
    "df = pd.read_csv('data/Train.csv')\n",
    "\n",
    "df.drop(vars_drop,axis=1,inplace=True)\n",
    "\n",
    "# calculate wind direction from components u and v\n",
    "uwind = np.array(df['u_component_of_wind_10m_above_ground']) * units('m/s')\n",
    "vwind = np.array(df['v_component_of_wind_10m_above_ground']) * units('m/s')\n",
    "df['winddir'] = metpy.calc.wind_direction(uwind, vwind)\n",
    "df['windspeed'] = metpy.calc.wind_speed(uwind, vwind)\n",
    "df = df.drop('u_component_of_wind_10m_above_ground', axis=1)\n",
    "df = df.drop('v_component_of_wind_10m_above_ground', axis=1)\n",
    "\n",
    "# convert to pd datetime\n",
    "df['Date'] = pd.to_datetime(df['Date'], format='%Y-%m-%d')\n",
    "\n",
    "# create a column with the  weekday\n",
    "df['weekday'] = df.Date.dt.dayofweek # Monday = 0"
   ]
  },
  {
   "cell_type": "code",
   "execution_count": 198,
   "metadata": {},
   "outputs": [],
   "source": [
    "# create dataframe with features of the prior day assigned to the respective days\n",
    "list_features_keep = ['Date', 'Place_ID', 'target'] #list of all features to keep in place in the new dataframe\n",
    "list_features_drop = 'target'\n",
    "list_features_drop2 = ['Date_prior', 'Place_ID_prior', 'deltatime']"
   ]
  },
  {
   "cell_type": "code",
   "execution_count": null,
   "metadata": {},
   "outputs": [],
   "source": [
    "# function_prior_day_features(df,features_to_transform (exclude date column, place column))\n",
    "def function_prior_day_features(df, list_features_keep, list_features_drop, list_features_drop2):\n",
    "    '''Function to create a dataframe with values of the prior day. Might result in missing rows (when no prior day is found)\n",
    "    Args:   df DataFrame\n",
    "            lists with features to keep or drop\n",
    "    Returns: df'''\n",
    "\n",
    "    # create new dataframe trunk\n",
    "    df_prior = df[list_features_keep]\n",
    "\n",
    "    # create new columns with suffix _prior in name\n",
    "    df = df.drop(columns = list_features_drop, axis=1)\n",
    "    df = df.add_suffix('_prior')\n",
    "\n",
    "    # shift all variables to the next value\n",
    "    df_shift = df.shift(periods=1)  \n",
    "\n",
    "    # concat them with the new dataframe\n",
    "    df_concat = pd.concat([df_prior, df_shift], axis=1)\n",
    "\n",
    "    # compare the Place_ID and Date columns of the regular dataframe with the ones of the prior\n",
    "\n",
    "    # create column with timedelta\n",
    "    df_concat['deltatime'] = (df_concat['Date']-df_concat['Date'].shift()).fillna(pd.Timedelta('0 days'))\n",
    "\n",
    "    # If timedelta is 1 day and they are the same location, then the values in the row are the ones of the day prior\n",
    "    # Else: drop row, because they do not belong to the same location and no values for the prior day are available\n",
    "    df_concat = df_concat.drop(df_concat[(df_concat.deltatime != '1 days')].index)\n",
    "    df_concat = df_concat.drop(df_concat[(df_concat['Place_ID'] != df_concat['Place_ID_prior'])].index)\n",
    "\n",
    "    #drop unnecessary columns\n",
    "    df_concat = df_concat.drop(columns = list_features_drop2, axis=1)\n",
    "    \n",
    "    # return a new dataframe with the new features (concat)\n",
    "    return df_concat"
   ]
  }
 ],
 "metadata": {
  "kernelspec": {
   "display_name": ".venv",
   "language": "python",
   "name": "python3"
  },
  "language_info": {
   "codemirror_mode": {
    "name": "ipython",
    "version": 3
   },
   "file_extension": ".py",
   "mimetype": "text/x-python",
   "name": "python",
   "nbconvert_exporter": "python",
   "pygments_lexer": "ipython3",
   "version": "3.9.8"
  },
  "orig_nbformat": 4,
  "vscode": {
   "interpreter": {
    "hash": "860aa0b7d6d44e7b74ed2e8b904a746270bd7f9d8aef854c41290a36ffe5ee07"
   }
  }
 },
 "nbformat": 4,
 "nbformat_minor": 2
}
