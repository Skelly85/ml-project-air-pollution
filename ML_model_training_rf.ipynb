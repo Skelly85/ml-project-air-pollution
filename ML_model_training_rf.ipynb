{
 "cells": [
  {
   "attachments": {},
   "cell_type": "markdown",
   "metadata": {},
   "source": [
    "# \"A breath of fresh air\" - ML model training notebook"
   ]
  },
  {
   "cell_type": "code",
   "execution_count": 9,
   "metadata": {},
   "outputs": [],
   "source": [
    "# import libraries and tools\n",
    "import pandas as pd\n",
    "import numpy as np\n",
    "import missingno as msno\n",
    "import metpy.calc\n",
    "from metpy.units import units\n",
    "\n",
    "import matplotlib.pyplot as plt\n",
    "import seaborn as sns\n",
    "import plotly.express as px\n",
    "\n",
    "\n",
    "from sklearn.pipeline import Pipeline\n",
    "from sklearn.model_selection import cross_val_score, train_test_split\n",
    "from sklearn.metrics import mean_squared_error, r2_score, classification_report, confusion_matrix, fbeta_score, make_scorer\n",
    "from sklearn.linear_model import LinearRegression, LogisticRegression\n",
    "from sklearn.model_selection import GridSearchCV, RandomizedSearchCV\n",
    "from sklearn.ensemble import RandomForestClassifier\n",
    "from xgboost import XGBClassifier\n",
    "\n",
    "\n",
    "from variable_names import vars_drop\n",
    "\n",
    "import preprocessing_pipeline as prepro\n",
    "import feature_engineering as feng\n",
    "\n",
    "import warnings\n",
    "warnings.filterwarnings('ignore')\n",
    "\n",
    "# eye candy plots\n",
    "plt.style.use('https://github.com/dhaitz/matplotlib-stylesheets/raw/master/pitayasmoothie-dark.mplstyle')\n",
    "# source https://github.com/dhaitz/matplotlib-stylesheets\n"
   ]
  },
  {
   "cell_type": "markdown",
   "metadata": {},
   "source": [
    "#### Get data and cleaning"
   ]
  },
  {
   "cell_type": "code",
   "execution_count": 53,
   "metadata": {},
   "outputs": [],
   "source": [
    "# get data\n",
    "df = pd.read_csv('data/Train.csv')\n",
    "## Throw out unwanted variables\n",
    "df.drop(vars_drop, axis=1, inplace=True)\n",
    "# Convert wind cartesional components to magnitude and direction \n",
    "df = feng.create_wind(df)\n",
    "# Convert time to datetime and create day-of-week column\n",
    "df = feng.time_features(df)\n",
    "# Convert target from float into category labels\n",
    "df = feng.create_target_labels(df)\n",
    "## Throw out variables with less than 15 features\n",
    "df.dropna(thresh=15, inplace=True)\n",
    "\n"
   ]
  },
  {
   "attachments": {},
   "cell_type": "markdown",
   "metadata": {},
   "source": [
    "#### compile the columns for column density"
   ]
  },
  {
   "cell_type": "code",
   "execution_count": 54,
   "metadata": {},
   "outputs": [
    {
     "ename": "KeyError",
     "evalue": "\"['specific_humidity_2m_above_ground'] not in index\"",
     "output_type": "error",
     "traceback": [
      "\u001b[0;31m---------------------------------------------------------------------------\u001b[0m",
      "\u001b[0;31mKeyError\u001b[0m                                  Traceback (most recent call last)",
      "Cell \u001b[0;32mIn[54], line 23\u001b[0m\n\u001b[1;32m     20\u001b[0m df\u001b[39m.\u001b[39mdrop(newlist, axis\u001b[39m=\u001b[39m\u001b[39m1\u001b[39m, inplace\u001b[39m=\u001b[39m\u001b[39mTrue\u001b[39;00m)\n\u001b[1;32m     22\u001b[0m \u001b[39m## Throw out variables with less than 15 features\u001b[39;00m\n\u001b[0;32m---> 23\u001b[0m df \u001b[39m=\u001b[39m feng\u001b[39m.\u001b[39;49mprior_features(df)\n",
      "File \u001b[0;32m~/neuefische/ml-project-air-pollution/feature_engineering.py:62\u001b[0m, in \u001b[0;36mprior_features\u001b[0;34m(df)\u001b[0m\n\u001b[1;32m     59\u001b[0m df_next \u001b[39m=\u001b[39m df\n\u001b[1;32m     61\u001b[0m \u001b[39m# copy df and create new columns with suffix _prior in name\u001b[39;00m\n\u001b[0;32m---> 62\u001b[0m df_prior \u001b[39m=\u001b[39m df[list_features_shift]\n\u001b[1;32m     63\u001b[0m df_prior \u001b[39m=\u001b[39m df_prior\u001b[39m.\u001b[39madd_suffix(\u001b[39m'\u001b[39m\u001b[39m_prior\u001b[39m\u001b[39m'\u001b[39m)\n\u001b[1;32m     65\u001b[0m \u001b[39m# shift all variables to the next value\u001b[39;00m\n",
      "File \u001b[0;32m~/neuefische/ml-project-air-pollution/.venv/lib/python3.9/site-packages/pandas/core/frame.py:3813\u001b[0m, in \u001b[0;36mDataFrame.__getitem__\u001b[0;34m(self, key)\u001b[0m\n\u001b[1;32m   3811\u001b[0m     \u001b[39mif\u001b[39;00m is_iterator(key):\n\u001b[1;32m   3812\u001b[0m         key \u001b[39m=\u001b[39m \u001b[39mlist\u001b[39m(key)\n\u001b[0;32m-> 3813\u001b[0m     indexer \u001b[39m=\u001b[39m \u001b[39mself\u001b[39;49m\u001b[39m.\u001b[39;49mcolumns\u001b[39m.\u001b[39;49m_get_indexer_strict(key, \u001b[39m\"\u001b[39;49m\u001b[39mcolumns\u001b[39;49m\u001b[39m\"\u001b[39;49m)[\u001b[39m1\u001b[39m]\n\u001b[1;32m   3815\u001b[0m \u001b[39m# take() does not accept boolean indexers\u001b[39;00m\n\u001b[1;32m   3816\u001b[0m \u001b[39mif\u001b[39;00m \u001b[39mgetattr\u001b[39m(indexer, \u001b[39m\"\u001b[39m\u001b[39mdtype\u001b[39m\u001b[39m\"\u001b[39m, \u001b[39mNone\u001b[39;00m) \u001b[39m==\u001b[39m \u001b[39mbool\u001b[39m:\n",
      "File \u001b[0;32m~/neuefische/ml-project-air-pollution/.venv/lib/python3.9/site-packages/pandas/core/indexes/base.py:6070\u001b[0m, in \u001b[0;36mIndex._get_indexer_strict\u001b[0;34m(self, key, axis_name)\u001b[0m\n\u001b[1;32m   6067\u001b[0m \u001b[39melse\u001b[39;00m:\n\u001b[1;32m   6068\u001b[0m     keyarr, indexer, new_indexer \u001b[39m=\u001b[39m \u001b[39mself\u001b[39m\u001b[39m.\u001b[39m_reindex_non_unique(keyarr)\n\u001b[0;32m-> 6070\u001b[0m \u001b[39mself\u001b[39;49m\u001b[39m.\u001b[39;49m_raise_if_missing(keyarr, indexer, axis_name)\n\u001b[1;32m   6072\u001b[0m keyarr \u001b[39m=\u001b[39m \u001b[39mself\u001b[39m\u001b[39m.\u001b[39mtake(indexer)\n\u001b[1;32m   6073\u001b[0m \u001b[39mif\u001b[39;00m \u001b[39misinstance\u001b[39m(key, Index):\n\u001b[1;32m   6074\u001b[0m     \u001b[39m# GH 42790 - Preserve name from an Index\u001b[39;00m\n",
      "File \u001b[0;32m~/neuefische/ml-project-air-pollution/.venv/lib/python3.9/site-packages/pandas/core/indexes/base.py:6133\u001b[0m, in \u001b[0;36mIndex._raise_if_missing\u001b[0;34m(self, key, indexer, axis_name)\u001b[0m\n\u001b[1;32m   6130\u001b[0m     \u001b[39mraise\u001b[39;00m \u001b[39mKeyError\u001b[39;00m(\u001b[39mf\u001b[39m\u001b[39m\"\u001b[39m\u001b[39mNone of [\u001b[39m\u001b[39m{\u001b[39;00mkey\u001b[39m}\u001b[39;00m\u001b[39m] are in the [\u001b[39m\u001b[39m{\u001b[39;00maxis_name\u001b[39m}\u001b[39;00m\u001b[39m]\u001b[39m\u001b[39m\"\u001b[39m)\n\u001b[1;32m   6132\u001b[0m not_found \u001b[39m=\u001b[39m \u001b[39mlist\u001b[39m(ensure_index(key)[missing_mask\u001b[39m.\u001b[39mnonzero()[\u001b[39m0\u001b[39m]]\u001b[39m.\u001b[39munique())\n\u001b[0;32m-> 6133\u001b[0m \u001b[39mraise\u001b[39;00m \u001b[39mKeyError\u001b[39;00m(\u001b[39mf\u001b[39m\u001b[39m\"\u001b[39m\u001b[39m{\u001b[39;00mnot_found\u001b[39m}\u001b[39;00m\u001b[39m not in index\u001b[39m\u001b[39m\"\u001b[39m)\n",
      "\u001b[0;31mKeyError\u001b[0m: \"['specific_humidity_2m_above_ground'] not in index\""
     ]
    }
   ],
   "source": [
    "import re\n",
    "from sklearn.preprocessing import StandardScaler\n",
    "list_cols = df.columns.to_list()\n",
    "\n",
    "r = re.compile(\".*column_number*\")\n",
    "\n",
    "newlist = list(filter(r.match, list_cols)) # Read Note below\n",
    "#print(newlist)\n",
    "\n",
    "column_densities = df[newlist]\n",
    "\n",
    "sscal = StandardScaler()\n",
    "\n",
    "column_densities = sscal.fit_transform(column_densities)\n",
    "column_densities_mean_scaled = column_densities.sum(axis=1)\n",
    "\n",
    "\n",
    "df['column_density'] = column_densities_mean_scaled\n",
    "\n",
    "df.drop(newlist, axis=1, inplace=True)\n",
    "\n",
    "## Throw out variables with less than 15 features\n",
    "df = feng.prior_features(df)\n",
    "\n"
   ]
  },
  {
   "cell_type": "code",
   "execution_count": null,
   "metadata": {},
   "outputs": [],
   "source": [
    "list_drop_new = ['specific_humidity_2m_above_ground',\n",
    "                 'specific_humidity_2m_above_ground_prior']\n",
    "\n",
    "df.drop('specific_humidity_2m_above_ground',axis=1, inplace=True)"
   ]
  },
  {
   "cell_type": "code",
   "execution_count": 48,
   "metadata": {},
   "outputs": [
    {
     "data": {
      "text/plain": [
       "['precipitable_water_entire_atmosphere',\n",
       " 'relative_humidity_2m_above_ground',\n",
       " 'specific_humidity_2m_above_ground',\n",
       " 'temperature_2m_above_ground',\n",
       " 'L3_NO2_absorbing_aerosol_index',\n",
       " 'L3_CLOUD_cloud_fraction',\n",
       " 'L3_CLOUD_cloud_optical_depth',\n",
       " 'L3_CLOUD_cloud_top_pressure',\n",
       " 'L3_CLOUD_surface_albedo',\n",
       " 'L3_AER_AI_absorbing_aerosol_index',\n",
       " 'L3_SO2_absorbing_aerosol_index',\n",
       " 'winddir',\n",
       " 'windspeed',\n",
       " 'weekday',\n",
       " 'column_density',\n",
       " 'precipitable_water_entire_atmosphere_prior',\n",
       " 'relative_humidity_2m_above_ground_prior',\n",
       " 'specific_humidity_2m_above_ground_prior',\n",
       " 'temperature_2m_above_ground_prior',\n",
       " 'winddir_prior',\n",
       " 'windspeed_prior']"
      ]
     },
     "execution_count": 48,
     "metadata": {},
     "output_type": "execute_result"
    }
   ],
   "source": []
  },
  {
   "cell_type": "markdown",
   "metadata": {},
   "source": []
  },
  {
   "attachments": {},
   "cell_type": "markdown",
   "metadata": {},
   "source": [
    "#### Define preprocessor and split data"
   ]
  },
  {
   "cell_type": "code",
   "execution_count": 45,
   "metadata": {},
   "outputs": [
    {
     "name": "stdout",
     "output_type": "stream",
     "text": [
      "X_train shape is(21269, 22), y_train shape is (21269,)\n",
      "X_test shape is(9115, 22), y_test shape is (9115,)\n"
     ]
    }
   ],
   "source": [
    "non_qnt_cols = ['Place_ID','Date','Place_ID X Date','target','target_cat']\n",
    "qnt_cols = [col for col in df.columns.to_list() if col not in non_qnt_cols]\n",
    "cat_cols = ['Place_ID']\n",
    "\n",
    "### Define the preprocessor\n",
    "\n",
    "preprocessor = prepro.make_pipeline(qnt_cols,cat_cols)\n",
    "\n",
    "## To make time spit, first drop numerical target and unnecessary categories\n",
    "## Keep target_cat as part of the dataframe\n",
    "\n",
    "df.drop(['Place_ID X Date','target'], axis=1, inplace=True)\n",
    "#Perform test train split for time series data\n",
    "X_train, X_test, y_train, y_test = prepro.test_train_time_split(df,\n",
    "                                                         target_name='target_cat',\n",
    "                                                         date_name='Date',\n",
    "                                                         test_size=0.3)\n",
    "\n",
    "print(f'X_train shape is{X_train.shape}, y_train shape is {y_train.shape}')\n",
    "print(f'X_test shape is{X_test.shape}, y_test shape is {y_test.shape}')"
   ]
  },
  {
   "cell_type": "code",
   "execution_count": 46,
   "metadata": {},
   "outputs": [],
   "source": [
    "def print_results(y_true,y_pred):\n",
    "    print(f\"Average class-weighted f-beta score is {fbeta_score(y_true,y_pred,beta=2,average='weighted'):.2f}\")\n",
    "    print('-------'*10)\n",
    "    #labels = ['Good','Fair','Poor']\n",
    "    labels = [0,1,2]\n",
    "    conf = confusion_matrix(y_true,y_pred,labels=labels)\n",
    "    \n",
    "\n",
    "    sns.heatmap(conf,annot=True,fmt='g', xticklabels=labels, yticklabels=labels);\n",
    "    print(classification_report(y_true, y_pred,labels=labels))\n",
    "\n",
    "\n",
    "## Make a scorer for the gridsearch\n",
    "fbeta2_scorer = make_scorer(fbeta_score, beta=2, average='weighted')\n"
   ]
  },
  {
   "attachments": {},
   "cell_type": "markdown",
   "metadata": {},
   "source": [
    "#### Baseline model"
   ]
  },
  {
   "cell_type": "code",
   "execution_count": 47,
   "metadata": {},
   "outputs": [
    {
     "name": "stdout",
     "output_type": "stream",
     "text": [
      "Average class-weighted f-beta score is 0.69\n",
      "----------------------------------------------------------------------\n",
      "              precision    recall  f1-score   support\n",
      "\n",
      "           0       0.67      0.69      0.68      2274\n",
      "           1       0.51      0.35      0.41      2365\n",
      "           2       0.77      0.88      0.82      4476\n",
      "\n",
      "    accuracy                           0.70      9115\n",
      "   macro avg       0.65      0.64      0.64      9115\n",
      "weighted avg       0.68      0.70      0.68      9115\n",
      "\n"
     ]
    },
    {
     "data": {
      "image/png": "[encoded data removed]",
      "text/plain": [
       "<Figure size 640x480 with 2 Axes>"
      ]
     },
     "metadata": {},
     "output_type": "display_data"
    }
   ],
   "source": [
    "param_grid = {}\n",
    "\n",
    "### Create a pipeline with the chosen baseline model and preprocessor\n",
    "base_log = Pipeline([\n",
    "    ('preprocessor', preprocessor),\n",
    "    ('log_reg', LogisticRegression(n_jobs=-1,max_iter=1000))\n",
    "])\n",
    "\n",
    "\n",
    "#Create a gridsearch for cross validation\n",
    "gs_baseline = GridSearchCV(base_log, param_grid=param_grid, cv=5, scoring=fbeta2_scorer, \n",
    "                           verbose=0, n_jobs=-1)\n",
    "\n",
    "\n",
    "## Fit the model using gridsearch and get best model\n",
    "gs_baseline.fit(X_train, y_train);\n",
    "best_model = gs_baseline.best_estimator_\n",
    "\n",
    "## Make predictions on test set\n",
    "y_pred = best_model.predict(X_test);\n",
    "\n",
    "## print the results\n",
    "print_results(y_test,y_pred);\n"
   ]
  },
  {
   "attachments": {},
   "cell_type": "markdown",
   "metadata": {},
   "source": [
    "## Random forest\n"
   ]
  },
  {
   "cell_type": "code",
   "execution_count": 7,
   "metadata": {},
   "outputs": [
    {
     "name": "stdout",
     "output_type": "stream",
     "text": [
      "Average class-weighted f-beta score is 0.58\n",
      "----------------------------------------------------------------------\n",
      "              precision    recall  f1-score   support\n",
      "\n",
      "           0       0.65      0.54      0.59      2274\n",
      "           1       0.61      0.06      0.11      2365\n",
      "           2       0.61      0.96      0.75      4476\n",
      "\n",
      "    accuracy                           0.62      9115\n",
      "   macro avg       0.62      0.52      0.48      9115\n",
      "weighted avg       0.62      0.62      0.54      9115\n",
      "\n"
     ]
    },
    {
     "data": {
      "image/png": "[encoded data removed]",
      "text/plain": [
       "<Figure size 640x480 with 2 Axes>"
      ]
     },
     "metadata": {},
     "output_type": "display_data"
    }
   ],
   "source": [
    "param_grid = {'rmf__n_estimators': range(10,200,5),\n",
    "              'rmf__max_depth': [None,] + list(range(10,100,5)),\n",
    "              'rmf__min_samples_leaf': range(1,10),\n",
    "              'rmf__max_features': (\"sqrt\",\"log2\",2,5,10)}\n",
    "\n",
    "### Create a pipeline with the chosen baseline model and preprocessor\n",
    "rmfor = Pipeline([\n",
    "    ('preprocessor', preprocessor),\n",
    "    ('rmf', RandomForestClassifier())\n",
    "])\n",
    "\n",
    "\n",
    "#Create a gridsearch for cross validation\n",
    "rs_rmfor = RandomizedSearchCV(rmfor, param_distributions=param_grid, cv=5, scoring=fbeta2_scorer, \n",
    "                           verbose=0, n_jobs=-1, n_iter=15)\n",
    "\n",
    "\n",
    "## Fit the model using gridsearch and get best model\n",
    "rs_rmfor.fit(X_train, y_train);\n",
    "best_model = rs_rmfor.best_estimator_\n",
    "\n",
    "## Make predictions on test set\n",
    "y_pred = best_model.predict(X_test);\n",
    "\n",
    "## print the results\n",
    "print_results(y_test,y_pred);\n"
   ]
  },
  {
   "cell_type": "code",
   "execution_count": 10,
   "metadata": {},
   "outputs": [
    {
     "ename": "KeyboardInterrupt",
     "evalue": "",
     "output_type": "error",
     "traceback": [
      "\u001b[0;31m---------------------------------------------------------------------------\u001b[0m",
      "\u001b[0;31mKeyboardInterrupt\u001b[0m                         Traceback (most recent call last)",
      "Cell \u001b[0;32mIn[10], line 16\u001b[0m\n\u001b[1;32m     11\u001b[0m gs_xgbc \u001b[39m=\u001b[39m GridSearchCV(xgbclass, param_grid\u001b[39m=\u001b[39mparam_grid, cv\u001b[39m=\u001b[39m\u001b[39m5\u001b[39m, \n\u001b[1;32m     12\u001b[0m                            verbose\u001b[39m=\u001b[39m\u001b[39m0\u001b[39m, n_jobs\u001b[39m=\u001b[39m\u001b[39m-\u001b[39m\u001b[39m1\u001b[39m)\n\u001b[1;32m     15\u001b[0m \u001b[39m## Fit the model using gridsearch and get best model\u001b[39;00m\n\u001b[0;32m---> 16\u001b[0m gs_xgbc\u001b[39m.\u001b[39;49mfit(X_train, y_train);\n\u001b[1;32m     17\u001b[0m best_model \u001b[39m=\u001b[39m gs_xgbc\u001b[39m.\u001b[39mbest_estimator_\n\u001b[1;32m     19\u001b[0m \u001b[39m## Make predictions on test set\u001b[39;00m\n",
      "File \u001b[0;32m~/neuefische/ml-project-air-pollution/.venv/lib/python3.9/site-packages/sklearn/model_selection/_search.py:891\u001b[0m, in \u001b[0;36mBaseSearchCV.fit\u001b[0;34m(self, X, y, groups, **fit_params)\u001b[0m\n\u001b[1;32m    885\u001b[0m     results \u001b[39m=\u001b[39m \u001b[39mself\u001b[39m\u001b[39m.\u001b[39m_format_results(\n\u001b[1;32m    886\u001b[0m         all_candidate_params, n_splits, all_out, all_more_results\n\u001b[1;32m    887\u001b[0m     )\n\u001b[1;32m    889\u001b[0m     \u001b[39mreturn\u001b[39;00m results\n\u001b[0;32m--> 891\u001b[0m \u001b[39mself\u001b[39;49m\u001b[39m.\u001b[39;49m_run_search(evaluate_candidates)\n\u001b[1;32m    893\u001b[0m \u001b[39m# multimetric is determined here because in the case of a callable\u001b[39;00m\n\u001b[1;32m    894\u001b[0m \u001b[39m# self.scoring the return type is only known after calling\u001b[39;00m\n\u001b[1;32m    895\u001b[0m first_test_score \u001b[39m=\u001b[39m all_out[\u001b[39m0\u001b[39m][\u001b[39m\"\u001b[39m\u001b[39mtest_scores\u001b[39m\u001b[39m\"\u001b[39m]\n",
      "File \u001b[0;32m~/neuefische/ml-project-air-pollution/.venv/lib/python3.9/site-packages/sklearn/model_selection/_search.py:1392\u001b[0m, in \u001b[0;36mGridSearchCV._run_search\u001b[0;34m(self, evaluate_candidates)\u001b[0m\n\u001b[1;32m   1390\u001b[0m \u001b[39mdef\u001b[39;00m \u001b[39m_run_search\u001b[39m(\u001b[39mself\u001b[39m, evaluate_candidates):\n\u001b[1;32m   1391\u001b[0m \u001b[39m    \u001b[39m\u001b[39m\"\"\"Search all candidates in param_grid\"\"\"\u001b[39;00m\n\u001b[0;32m-> 1392\u001b[0m     evaluate_candidates(ParameterGrid(\u001b[39mself\u001b[39;49m\u001b[39m.\u001b[39;49mparam_grid))\n",
      "File \u001b[0;32m~/neuefische/ml-project-air-pollution/.venv/lib/python3.9/site-packages/sklearn/model_selection/_search.py:838\u001b[0m, in \u001b[0;36mBaseSearchCV.fit.<locals>.evaluate_candidates\u001b[0;34m(candidate_params, cv, more_results)\u001b[0m\n\u001b[1;32m    830\u001b[0m \u001b[39mif\u001b[39;00m \u001b[39mself\u001b[39m\u001b[39m.\u001b[39mverbose \u001b[39m>\u001b[39m \u001b[39m0\u001b[39m:\n\u001b[1;32m    831\u001b[0m     \u001b[39mprint\u001b[39m(\n\u001b[1;32m    832\u001b[0m         \u001b[39m\"\u001b[39m\u001b[39mFitting \u001b[39m\u001b[39m{0}\u001b[39;00m\u001b[39m folds for each of \u001b[39m\u001b[39m{1}\u001b[39;00m\u001b[39m candidates,\u001b[39m\u001b[39m\"\u001b[39m\n\u001b[1;32m    833\u001b[0m         \u001b[39m\"\u001b[39m\u001b[39m totalling \u001b[39m\u001b[39m{2}\u001b[39;00m\u001b[39m fits\u001b[39m\u001b[39m\"\u001b[39m\u001b[39m.\u001b[39mformat(\n\u001b[1;32m    834\u001b[0m             n_splits, n_candidates, n_candidates \u001b[39m*\u001b[39m n_splits\n\u001b[1;32m    835\u001b[0m         )\n\u001b[1;32m    836\u001b[0m     )\n\u001b[0;32m--> 838\u001b[0m out \u001b[39m=\u001b[39m parallel(\n\u001b[1;32m    839\u001b[0m     delayed(_fit_and_score)(\n\u001b[1;32m    840\u001b[0m         clone(base_estimator),\n\u001b[1;32m    841\u001b[0m         X,\n\u001b[1;32m    842\u001b[0m         y,\n\u001b[1;32m    843\u001b[0m         train\u001b[39m=\u001b[39;49mtrain,\n\u001b[1;32m    844\u001b[0m         test\u001b[39m=\u001b[39;49mtest,\n\u001b[1;32m    845\u001b[0m         parameters\u001b[39m=\u001b[39;49mparameters,\n\u001b[1;32m    846\u001b[0m         split_progress\u001b[39m=\u001b[39;49m(split_idx, n_splits),\n\u001b[1;32m    847\u001b[0m         candidate_progress\u001b[39m=\u001b[39;49m(cand_idx, n_candidates),\n\u001b[1;32m    848\u001b[0m         \u001b[39m*\u001b[39;49m\u001b[39m*\u001b[39;49mfit_and_score_kwargs,\n\u001b[1;32m    849\u001b[0m     )\n\u001b[1;32m    850\u001b[0m     \u001b[39mfor\u001b[39;49;00m (cand_idx, parameters), (split_idx, (train, test)) \u001b[39min\u001b[39;49;00m product(\n\u001b[1;32m    851\u001b[0m         \u001b[39menumerate\u001b[39;49m(candidate_params), \u001b[39menumerate\u001b[39;49m(cv\u001b[39m.\u001b[39;49msplit(X, y, groups))\n\u001b[1;32m    852\u001b[0m     )\n\u001b[1;32m    853\u001b[0m )\n\u001b[1;32m    855\u001b[0m \u001b[39mif\u001b[39;00m \u001b[39mlen\u001b[39m(out) \u001b[39m<\u001b[39m \u001b[39m1\u001b[39m:\n\u001b[1;32m    856\u001b[0m     \u001b[39mraise\u001b[39;00m \u001b[39mValueError\u001b[39;00m(\n\u001b[1;32m    857\u001b[0m         \u001b[39m\"\u001b[39m\u001b[39mNo fits were performed. \u001b[39m\u001b[39m\"\u001b[39m\n\u001b[1;32m    858\u001b[0m         \u001b[39m\"\u001b[39m\u001b[39mWas the CV iterator empty? \u001b[39m\u001b[39m\"\u001b[39m\n\u001b[1;32m    859\u001b[0m         \u001b[39m\"\u001b[39m\u001b[39mWere there no candidates?\u001b[39m\u001b[39m\"\u001b[39m\n\u001b[1;32m    860\u001b[0m     )\n",
      "File \u001b[0;32m~/neuefische/ml-project-air-pollution/.venv/lib/python3.9/site-packages/joblib/parallel.py:1098\u001b[0m, in \u001b[0;36mParallel.__call__\u001b[0;34m(self, iterable)\u001b[0m\n\u001b[1;32m   1095\u001b[0m     \u001b[39mself\u001b[39m\u001b[39m.\u001b[39m_iterating \u001b[39m=\u001b[39m \u001b[39mFalse\u001b[39;00m\n\u001b[1;32m   1097\u001b[0m \u001b[39mwith\u001b[39;00m \u001b[39mself\u001b[39m\u001b[39m.\u001b[39m_backend\u001b[39m.\u001b[39mretrieval_context():\n\u001b[0;32m-> 1098\u001b[0m     \u001b[39mself\u001b[39;49m\u001b[39m.\u001b[39;49mretrieve()\n\u001b[1;32m   1099\u001b[0m \u001b[39m# Make sure that we get a last message telling us we are done\u001b[39;00m\n\u001b[1;32m   1100\u001b[0m elapsed_time \u001b[39m=\u001b[39m time\u001b[39m.\u001b[39mtime() \u001b[39m-\u001b[39m \u001b[39mself\u001b[39m\u001b[39m.\u001b[39m_start_time\n",
      "File \u001b[0;32m~/neuefische/ml-project-air-pollution/.venv/lib/python3.9/site-packages/joblib/parallel.py:975\u001b[0m, in \u001b[0;36mParallel.retrieve\u001b[0;34m(self)\u001b[0m\n\u001b[1;32m    973\u001b[0m \u001b[39mtry\u001b[39;00m:\n\u001b[1;32m    974\u001b[0m     \u001b[39mif\u001b[39;00m \u001b[39mgetattr\u001b[39m(\u001b[39mself\u001b[39m\u001b[39m.\u001b[39m_backend, \u001b[39m'\u001b[39m\u001b[39msupports_timeout\u001b[39m\u001b[39m'\u001b[39m, \u001b[39mFalse\u001b[39;00m):\n\u001b[0;32m--> 975\u001b[0m         \u001b[39mself\u001b[39m\u001b[39m.\u001b[39m_output\u001b[39m.\u001b[39mextend(job\u001b[39m.\u001b[39;49mget(timeout\u001b[39m=\u001b[39;49m\u001b[39mself\u001b[39;49m\u001b[39m.\u001b[39;49mtimeout))\n\u001b[1;32m    976\u001b[0m     \u001b[39melse\u001b[39;00m:\n\u001b[1;32m    977\u001b[0m         \u001b[39mself\u001b[39m\u001b[39m.\u001b[39m_output\u001b[39m.\u001b[39mextend(job\u001b[39m.\u001b[39mget())\n",
      "File \u001b[0;32m~/neuefische/ml-project-air-pollution/.venv/lib/python3.9/site-packages/joblib/_parallel_backends.py:567\u001b[0m, in \u001b[0;36mLokyBackend.wrap_future_result\u001b[0;34m(future, timeout)\u001b[0m\n\u001b[1;32m    564\u001b[0m \u001b[39m\u001b[39m\u001b[39m\"\"\"Wrapper for Future.result to implement the same behaviour as\u001b[39;00m\n\u001b[1;32m    565\u001b[0m \u001b[39mAsyncResults.get from multiprocessing.\"\"\"\u001b[39;00m\n\u001b[1;32m    566\u001b[0m \u001b[39mtry\u001b[39;00m:\n\u001b[0;32m--> 567\u001b[0m     \u001b[39mreturn\u001b[39;00m future\u001b[39m.\u001b[39;49mresult(timeout\u001b[39m=\u001b[39;49mtimeout)\n\u001b[1;32m    568\u001b[0m \u001b[39mexcept\u001b[39;00m CfTimeoutError \u001b[39mas\u001b[39;00m e:\n\u001b[1;32m    569\u001b[0m     \u001b[39mraise\u001b[39;00m \u001b[39mTimeoutError\u001b[39;00m \u001b[39mfrom\u001b[39;00m \u001b[39me\u001b[39;00m\n",
      "File \u001b[0;32m~/.pyenv/versions/3.9.8/lib/python3.9/concurrent/futures/_base.py:440\u001b[0m, in \u001b[0;36mFuture.result\u001b[0;34m(self, timeout)\u001b[0m\n\u001b[1;32m    437\u001b[0m \u001b[39melif\u001b[39;00m \u001b[39mself\u001b[39m\u001b[39m.\u001b[39m_state \u001b[39m==\u001b[39m FINISHED:\n\u001b[1;32m    438\u001b[0m     \u001b[39mreturn\u001b[39;00m \u001b[39mself\u001b[39m\u001b[39m.\u001b[39m__get_result()\n\u001b[0;32m--> 440\u001b[0m \u001b[39mself\u001b[39;49m\u001b[39m.\u001b[39;49m_condition\u001b[39m.\u001b[39;49mwait(timeout)\n\u001b[1;32m    442\u001b[0m \u001b[39mif\u001b[39;00m \u001b[39mself\u001b[39m\u001b[39m.\u001b[39m_state \u001b[39min\u001b[39;00m [CANCELLED, CANCELLED_AND_NOTIFIED]:\n\u001b[1;32m    443\u001b[0m     \u001b[39mraise\u001b[39;00m CancelledError()\n",
      "File \u001b[0;32m~/.pyenv/versions/3.9.8/lib/python3.9/threading.py:312\u001b[0m, in \u001b[0;36mCondition.wait\u001b[0;34m(self, timeout)\u001b[0m\n\u001b[1;32m    310\u001b[0m \u001b[39mtry\u001b[39;00m:    \u001b[39m# restore state no matter what (e.g., KeyboardInterrupt)\u001b[39;00m\n\u001b[1;32m    311\u001b[0m     \u001b[39mif\u001b[39;00m timeout \u001b[39mis\u001b[39;00m \u001b[39mNone\u001b[39;00m:\n\u001b[0;32m--> 312\u001b[0m         waiter\u001b[39m.\u001b[39;49macquire()\n\u001b[1;32m    313\u001b[0m         gotit \u001b[39m=\u001b[39m \u001b[39mTrue\u001b[39;00m\n\u001b[1;32m    314\u001b[0m     \u001b[39melse\u001b[39;00m:\n",
      "\u001b[0;31mKeyboardInterrupt\u001b[0m: "
     ]
    }
   ],
   "source": [
    "param_grid = {}\n",
    "\n",
    "### Create a pipeline with the chosen baseline model and preprocessor\n",
    "xgbclass = Pipeline([\n",
    "    ('preprocessor', preprocessor),\n",
    "    ('xgbc', XGBClassifier())\n",
    "])\n",
    "\n",
    "\n",
    "#Create a gridsearch for cross validation\n",
    "gs_xgbc = GridSearchCV(xgbclass, param_grid=param_grid, cv=5, \n",
    "                           verbose=0, n_jobs=-1)\n",
    "\n",
    "\n",
    "## Fit the model using gridsearch and get best model\n",
    "gs_xgbc.fit(X_train, y_train);\n",
    "best_model = gs_xgbc.best_estimator_\n",
    "\n",
    "## Make predictions on test set\n",
    "y_pred = best_model.predict(X_test);\n",
    "\n",
    "## print the results\n",
    "print_results(y_test,y_pred);\n"
   ]
  },
  {
   "cell_type": "code",
   "execution_count": 41,
   "metadata": {},
   "outputs": [],
   "source": [
    "from imblearn.pipeline import Pipeline\n",
    "from imblearn.over_sampling import RandomOverSampler\n",
    "from imblearn.under_sampling import RandomUnderSampler\n",
    "\n",
    "\n",
    "reduce_max = 1.5\n",
    "# roughly 1.5\n",
    "val_cts = y_train.value_counts()\n",
    "vc_min = val_cts.min()\n",
    "\n",
    "vc_rus = (val_cts - vc_min)//2 + vc_min\n",
    "\n",
    "rus = RandomUnderSampler(sampling_strategy={0: vc_rus[0], 1: vc_rus[1], 2: vc_rus[2]})\n",
    "ros = RandomOverSampler()\n",
    "\n",
    "X_res, y_res = rus.fit_resample(X_train,y_train)\n",
    "X_res, y_res = ros.fit_resample(X_res,y_res)"
   ]
  },
  {
   "cell_type": "code",
   "execution_count": null,
   "metadata": {},
   "outputs": [],
   "source": []
  },
  {
   "cell_type": "code",
   "execution_count": 42,
   "metadata": {},
   "outputs": [
    {
     "data": {
      "text/plain": [
       "0    7966\n",
       "1    7966\n",
       "2    7966\n",
       "Name: target_cat, dtype: int64"
      ]
     },
     "execution_count": 42,
     "metadata": {},
     "output_type": "execute_result"
    }
   ],
   "source": [
    "y_res.value_counts()"
   ]
  }
 ],
 "metadata": {
  "kernelspec": {
   "display_name": ".venv",
   "language": "python",
   "name": "python3"
  },
  "language_info": {
   "codemirror_mode": {
    "name": "ipython",
    "version": 3
   },
   "file_extension": ".py",
   "mimetype": "text/x-python",
   "name": "python",
   "nbconvert_exporter": "python",
   "pygments_lexer": "ipython3",
   "version": "3.9.8"
  },
  "vscode": {
   "interpreter": {
    "hash": "ee71508744cbed7c15044d0794bf2bf0486322da70d094abdfe6207178363e3e"
   }
  }
 },
 "nbformat": 4,
 "nbformat_minor": 4
}
